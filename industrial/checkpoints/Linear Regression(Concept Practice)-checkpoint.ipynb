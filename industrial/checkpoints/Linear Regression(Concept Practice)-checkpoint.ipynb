{
 "cells": [
  {
   "cell_type": "code",
   "execution_count": 219,
   "metadata": {
    "executionInfo": {
     "elapsed": 524,
     "status": "ok",
     "timestamp": 1625023903739,
     "user": {
      "displayName": "Ashish Sharma",
      "photoUrl": "https://lh3.googleusercontent.com/a-/AOh14GhLgjf50_jNSgF-fCVnRio_rvn1pbYAvJI4ZiQgBw=s64",
      "userId": "15199158843343929672"
     },
     "user_tz": -330
    },
    "id": "IlT1jcqPA1Y4"
   },
   "outputs": [],
   "source": [
    "import pandas as pd\n",
    "import numpy as np\n",
    "import matplotlib.pyplot as plt\n",
    "plt.style.use('dark_background')\n",
    "from sklearn.metrics import mean_squared_error as mse\n",
    "from sklearn.metrics import mean_absolute_error as mae\n",
    "data=pd.read_csv('/content/drive/MyDrive/Notebooks/Module 4 assignment/Transformed_Housing_Data2.csv')"
   ]
  },
  {
   "cell_type": "code",
   "execution_count": 50,
   "metadata": {
    "executionInfo": {
     "elapsed": 452,
     "status": "ok",
     "timestamp": 1625010475209,
     "user": {
      "displayName": "Ashish Sharma",
      "photoUrl": "https://lh3.googleusercontent.com/a-/AOh14GhLgjf50_jNSgF-fCVnRio_rvn1pbYAvJI4ZiQgBw=s64",
      "userId": "15199158843343929672"
     },
     "user_tz": -330
    },
    "id": "eBzettbcBRHg"
   },
   "outputs": [],
   "source": [
    "Sample_Data=pd.DataFrame({'Sale_Price':data['Sale_Price'],'Flat_Area':data['Flat Area (in Sqft)']}).head(30)"
   ]
  },
  {
   "cell_type": "code",
   "execution_count": 185,
   "metadata": {
    "executionInfo": {
     "elapsed": 650,
     "status": "ok",
     "timestamp": 1625019043884,
     "user": {
      "displayName": "Ashish Sharma",
      "photoUrl": "https://lh3.googleusercontent.com/a-/AOh14GhLgjf50_jNSgF-fCVnRio_rvn1pbYAvJI4ZiQgBw=s64",
      "userId": "15199158843343929672"
     },
     "user_tz": -330
    },
    "id": "b120UueVpdJi"
   },
   "outputs": [],
   "source": [
    "Sample_Data['Mean_Sale']=0"
   ]
  },
  {
   "cell_type": "code",
   "execution_count": 180,
   "metadata": {
    "executionInfo": {
     "elapsed": 421,
     "status": "ok",
     "timestamp": 1625018835558,
     "user": {
      "displayName": "Ashish Sharma",
      "photoUrl": "https://lh3.googleusercontent.com/a-/AOh14GhLgjf50_jNSgF-fCVnRio_rvn1pbYAvJI4ZiQgBw=s64",
      "userId": "15199158843343929672"
     },
     "user_tz": -330
    },
    "id": "9QG2bgqNplAr"
   },
   "outputs": [],
   "source": [
    "table=Sample_Data.pivot_table(values='Sale_Price',columns='Flat_Area',aggfunc=np.mean)"
   ]
  },
  {
   "cell_type": "code",
   "execution_count": 187,
   "metadata": {
    "colab": {
     "base_uri": "https://localhost:8080/"
    },
    "executionInfo": {
     "elapsed": 652,
     "status": "ok",
     "timestamp": 1625019051886,
     "user": {
      "displayName": "Ashish Sharma",
      "photoUrl": "https://lh3.googleusercontent.com/a-/AOh14GhLgjf50_jNSgF-fCVnRio_rvn1pbYAvJI4ZiQgBw=s64",
      "userId": "15199158843343929672"
     },
     "user_tz": -330
    },
    "id": "Ly7Niwa4qhJ1",
    "outputId": "608de420-d884-41ba-cd28-dd432f45f2c3"
   },
   "outputs": [
    {
     "name": "stderr",
     "output_type": "stream",
     "text": [
      "/usr/local/lib/python3.7/dist-packages/ipykernel_launcher.py:2: SettingWithCopyWarning: \n",
      "A value is trying to be set on a copy of a slice from a DataFrame\n",
      "\n",
      "See the caveats in the documentation: https://pandas.pydata.org/pandas-docs/stable/user_guide/indexing.html#returning-a-view-versus-a-copy\n",
      "  \n"
     ]
    }
   ],
   "source": [
    "for i in table.columns:\n",
    "  Sample_Data['Mean_Sale'][Sample_Data['Flat_Area']==i]=table[i][0]"
   ]
  },
  {
   "cell_type": "code",
   "execution_count": 188,
   "metadata": {
    "colab": {
     "base_uri": "https://localhost:8080/",
     "height": 204
    },
    "executionInfo": {
     "elapsed": 651,
     "status": "ok",
     "timestamp": 1625019055905,
     "user": {
      "displayName": "Ashish Sharma",
      "photoUrl": "https://lh3.googleusercontent.com/a-/AOh14GhLgjf50_jNSgF-fCVnRio_rvn1pbYAvJI4ZiQgBw=s64",
      "userId": "15199158843343929672"
     },
     "user_tz": -330
    },
    "id": "thNlGt_2rk7F",
    "outputId": "9a625b0a-1187-45da-89d3-90fdf1b81f9c"
   },
   "outputs": [
    {
     "data": {
      "text/html": [
       "<div>\n",
       "<style scoped>\n",
       "    .dataframe tbody tr th:only-of-type {\n",
       "        vertical-align: middle;\n",
       "    }\n",
       "\n",
       "    .dataframe tbody tr th {\n",
       "        vertical-align: top;\n",
       "    }\n",
       "\n",
       "    .dataframe thead th {\n",
       "        text-align: right;\n",
       "    }\n",
       "</style>\n",
       "<table border=\"1\" class=\"dataframe\">\n",
       "  <thead>\n",
       "    <tr style=\"text-align: right;\">\n",
       "      <th></th>\n",
       "      <th>Sale_Price</th>\n",
       "      <th>Flat_Area</th>\n",
       "      <th>Mean_Sale</th>\n",
       "    </tr>\n",
       "  </thead>\n",
       "  <tbody>\n",
       "    <tr>\n",
       "      <th>0</th>\n",
       "      <td>221900.0</td>\n",
       "      <td>1180.0</td>\n",
       "      <td>221900</td>\n",
       "    </tr>\n",
       "    <tr>\n",
       "      <th>1</th>\n",
       "      <td>538000.0</td>\n",
       "      <td>2570.0</td>\n",
       "      <td>628500</td>\n",
       "    </tr>\n",
       "    <tr>\n",
       "      <th>2</th>\n",
       "      <td>180000.0</td>\n",
       "      <td>770.0</td>\n",
       "      <td>180000</td>\n",
       "    </tr>\n",
       "    <tr>\n",
       "      <th>3</th>\n",
       "      <td>604000.0</td>\n",
       "      <td>1960.0</td>\n",
       "      <td>604000</td>\n",
       "    </tr>\n",
       "    <tr>\n",
       "      <th>4</th>\n",
       "      <td>510000.0</td>\n",
       "      <td>1680.0</td>\n",
       "      <td>510000</td>\n",
       "    </tr>\n",
       "  </tbody>\n",
       "</table>\n",
       "</div>"
      ],
      "text/plain": [
       "   Sale_Price  Flat_Area  Mean_Sale\n",
       "0    221900.0     1180.0     221900\n",
       "1    538000.0     2570.0     628500\n",
       "2    180000.0      770.0     180000\n",
       "3    604000.0     1960.0     604000\n",
       "4    510000.0     1680.0     510000"
      ]
     },
     "execution_count": 188,
     "metadata": {
      "tags": []
     },
     "output_type": "execute_result"
    }
   ],
   "source": [
    "Sample_Data.head()"
   ]
  },
  {
   "cell_type": "code",
   "execution_count": 220,
   "metadata": {
    "colab": {
     "base_uri": "https://localhost:8080/",
     "height": 421
    },
    "executionInfo": {
     "elapsed": 569,
     "status": "ok",
     "timestamp": 1625023908810,
     "user": {
      "displayName": "Ashish Sharma",
      "photoUrl": "https://lh3.googleusercontent.com/a-/AOh14GhLgjf50_jNSgF-fCVnRio_rvn1pbYAvJI4ZiQgBw=s64",
      "userId": "15199158843343929672"
     },
     "user_tz": -330
    },
    "id": "eyr_0n4FBmdf",
    "outputId": "a854a92c-5781-41b6-bc10-b5b48e38c8aa"
   },
   "outputs": [
    {
     "data": {
      "text/plain": [
       "<matplotlib.legend.Legend at 0x7fcf9c19f2d0>"
      ]
     },
     "execution_count": 220,
     "metadata": {
      "tags": []
     },
     "output_type": "execute_result"
    },
    {
     "data": {
      "image/png": "[encoded data removed]",
      "text/plain": [
       "<Figure size 600x400 with 1 Axes>"
      ]
     },
     "metadata": {
      "tags": []
     },
     "output_type": "display_data"
    }
   ],
   "source": [
    "#Plotting graph between the attributes of Simple_Table\n",
    "plt.figure(dpi=100)\n",
    "plt.scatter(Sample_Data['Flat_Area'],Sample_Data['Sale_Price'],color='red',label='Sale Price point')\n",
    "plt.xlabel('Flat Area')\n",
    "plt.ylabel('Sale Price')\n",
    "plt.title('Flat Area Vs Sale Price')\n",
    "plt.legend()"
   ]
  },
  {
   "cell_type": "code",
   "execution_count": 224,
   "metadata": {
    "executionInfo": {
     "elapsed": 429,
     "status": "ok",
     "timestamp": 1625023972874,
     "user": {
      "displayName": "Ashish Sharma",
      "photoUrl": "https://lh3.googleusercontent.com/a-/AOh14GhLgjf50_jNSgF-fCVnRio_rvn1pbYAvJI4ZiQgBw=s64",
      "userId": "15199158843343929672"
     },
     "user_tz": -330
    },
    "id": "GhMWtMBUDQE-"
   },
   "outputs": [],
   "source": [
    "def slope_inter_cost(m,c,d=Sample_Data):\n",
    "  sale=[]\n",
    "  for i in range(len(d)):\n",
    "    temp=m*d.Flat_Area[i] + c\n",
    "    sale.append(temp)\n",
    "  MSE=mse(d.Sale_Price,sale)\n",
    "  return MSE"
   ]
  },
  {
   "cell_type": "code",
   "execution_count": 225,
   "metadata": {
    "executionInfo": {
     "elapsed": 564,
     "status": "ok",
     "timestamp": 1625023976872,
     "user": {
      "displayName": "Ashish Sharma",
      "photoUrl": "https://lh3.googleusercontent.com/a-/AOh14GhLgjf50_jNSgF-fCVnRio_rvn1pbYAvJI4ZiQgBw=s64",
      "userId": "15199158843343929672"
     },
     "user_tz": -330
    },
    "id": "584x0_k7kWBI"
   },
   "outputs": [],
   "source": [
    "def slope_table(slope,cost):\n",
    "  slope_cost_table=pd.DataFrame({'slope':slope,'cost':cost})\n",
    "  m=slope_cost_table['slope'][slope_cost_table['cost']==slope_cost_table['cost'].min()]\n",
    "  return m\n",
    "\n",
    "def intercept_table(inter, intercept):\n",
    "  inter_cost_table=pd.DataFrame({'intercept':inter,'cost':intercept})\n",
    "  m=inter_cost_table['intercept'][inter_cost_table.cost==inter_cost_table.cost.min()]\n",
    "  return m\n"
   ]
  },
  {
   "cell_type": "code",
   "execution_count": 226,
   "metadata": {
    "executionInfo": {
     "elapsed": 701,
     "status": "ok",
     "timestamp": 1625023979572,
     "user": {
      "displayName": "Ashish Sharma",
      "photoUrl": "https://lh3.googleusercontent.com/a-/AOh14GhLgjf50_jNSgF-fCVnRio_rvn1pbYAvJI4ZiQgBw=s64",
      "userId": "15199158843343929672"
     },
     "user_tz": -330
    },
    "id": "SoSHZKy0FlHG"
   },
   "outputs": [],
   "source": [
    "min_error_slope=0\n",
    "slope_cost_table\n",
    "def s(interc):\n",
    "  slope=[i/10 for i in range(0,5000)]\n",
    "  cost=[]\n",
    "  for i in slope:\n",
    "    x=slope_inter_cost(m=i,c=interc)\n",
    "    cost.append(x)\n",
    "  return slope_table(slope,cost)\n",
    "  "
   ]
  },
  {
   "cell_type": "code",
   "execution_count": 227,
   "metadata": {
    "executionInfo": {
     "elapsed": 546,
     "status": "ok",
     "timestamp": 1625023983961,
     "user": {
      "displayName": "Ashish Sharma",
      "photoUrl": "https://lh3.googleusercontent.com/a-/AOh14GhLgjf50_jNSgF-fCVnRio_rvn1pbYAvJI4ZiQgBw=s64",
      "userId": "15199158843343929672"
     },
     "user_tz": -330
    },
    "id": "huBYWYh0NhO_"
   },
   "outputs": [],
   "source": [
    "min_error_intercept=0\n",
    "inter_cost_table\n",
    "def intercept_func(sl):\n",
    "  inter=[i for i in range(5000,12000)]\n",
    "  intercept=[]\n",
    "  for i in inter:\n",
    "    temp=slope_inter_cost(m=sl,c=i)\n",
    "    intercept.append(temp)\n",
    "  return intercept_table(inter, intercept)\n",
    "  "
   ]
  },
  {
   "cell_type": "code",
   "execution_count": 228,
   "metadata": {
    "executionInfo": {
     "elapsed": 646,
     "status": "ok",
     "timestamp": 1625023988863,
     "user": {
      "displayName": "Ashish Sharma",
      "photoUrl": "https://lh3.googleusercontent.com/a-/AOh14GhLgjf50_jNSgF-fCVnRio_rvn1pbYAvJI4ZiQgBw=s64",
      "userId": "15199158843343929672"
     },
     "user_tz": -330
    },
    "id": "XrW1JM_ZTzg9"
   },
   "outputs": [],
   "source": [
    "def slop_inter_graph():\n",
    "  plt.figure(figsize=(15,6),dpi=100)\n",
    "  #plotting graph between slope and cost of slope\n",
    "  plt.subplot(1,2,1)\n",
    "  plt.plot(slope_cost_table.slope,slope_cost_table.cost,label='Slope Cost')\n",
    "  plt.xlabel('Slope')\n",
    "  plt.ylabel('Cost')\n",
    "  plt.legend\n",
    "  #plotting graph between intercept and cost of intercept\n",
    "  plt.subplot(1,2,2)\n",
    "  plt.plot(inter_cost_table.intercept,inter_cost_table.cost)\n",
    "  plt.xlabel('Intercept')\n",
    "  plt.ylabel('Cost of Intercept')\n",
    "  plt.legend()"
   ]
  },
  {
   "cell_type": "code",
   "execution_count": 229,
   "metadata": {
    "colab": {
     "base_uri": "https://localhost:8080/",
     "height": 823
    },
    "executionInfo": {
     "elapsed": 1045,
     "status": "error",
     "timestamp": 1625023991779,
     "user": {
      "displayName": "Ashish Sharma",
      "photoUrl": "https://lh3.googleusercontent.com/a-/AOh14GhLgjf50_jNSgF-fCVnRio_rvn1pbYAvJI4ZiQgBw=s64",
      "userId": "15199158843343929672"
     },
     "user_tz": -330
    },
    "id": "HwO4THQAb0Mr",
    "outputId": "8a8dcd53-dcbe-47b8-c7d9-51a644610cb9"
   },
   "outputs": [
    {
     "ename": "AttributeError",
     "evalue": "ignored",
     "output_type": "error",
     "traceback": [
      "\u001b[0;31m---------------------------------------------------------------------------\u001b[0m",
      "\u001b[0;31mAttributeError\u001b[0m                            Traceback (most recent call last)",
      "\u001b[0;32m<ipython-input-229-c30dedb05589>\u001b[0m in \u001b[0;36m<module>\u001b[0;34m()\u001b[0m\n\u001b[0;32m----> 1\u001b[0;31m \u001b[0mslop_inter_graph\u001b[0m\u001b[0;34m(\u001b[0m\u001b[0;34m)\u001b[0m\u001b[0;34m\u001b[0m\u001b[0;34m\u001b[0m\u001b[0m\n\u001b[0m",
      "\u001b[0;32m<ipython-input-228-822cfebd5a1f>\u001b[0m in \u001b[0;36mslop_inter_graph\u001b[0;34m()\u001b[0m\n\u001b[1;32m      9\u001b[0m   \u001b[0;31m#plotting graph between intercept and cost of intercept\u001b[0m\u001b[0;34m\u001b[0m\u001b[0;34m\u001b[0m\u001b[0;34m\u001b[0m\u001b[0m\n\u001b[1;32m     10\u001b[0m   \u001b[0mplt\u001b[0m\u001b[0;34m.\u001b[0m\u001b[0msubplot\u001b[0m\u001b[0;34m(\u001b[0m\u001b[0;36m1\u001b[0m\u001b[0;34m,\u001b[0m\u001b[0;36m2\u001b[0m\u001b[0;34m,\u001b[0m\u001b[0;36m2\u001b[0m\u001b[0;34m)\u001b[0m\u001b[0;34m\u001b[0m\u001b[0;34m\u001b[0m\u001b[0m\n\u001b[0;32m---> 11\u001b[0;31m   \u001b[0mplt\u001b[0m\u001b[0;34m.\u001b[0m\u001b[0mplot\u001b[0m\u001b[0;34m(\u001b[0m\u001b[0minter_cost_table\u001b[0m\u001b[0;34m.\u001b[0m\u001b[0mintercept\u001b[0m\u001b[0;34m,\u001b[0m\u001b[0minter_cost_table\u001b[0m\u001b[0;34m.\u001b[0m\u001b[0mcost\u001b[0m\u001b[0;34m)\u001b[0m\u001b[0;34m\u001b[0m\u001b[0;34m\u001b[0m\u001b[0m\n\u001b[0m\u001b[1;32m     12\u001b[0m   \u001b[0mplt\u001b[0m\u001b[0;34m.\u001b[0m\u001b[0mxlabel\u001b[0m\u001b[0;34m(\u001b[0m\u001b[0;34m'Intercept'\u001b[0m\u001b[0;34m)\u001b[0m\u001b[0;34m\u001b[0m\u001b[0;34m\u001b[0m\u001b[0m\n\u001b[1;32m     13\u001b[0m   \u001b[0mplt\u001b[0m\u001b[0;34m.\u001b[0m\u001b[0mylabel\u001b[0m\u001b[0;34m(\u001b[0m\u001b[0;34m'Cost of Intercept'\u001b[0m\u001b[0;34m)\u001b[0m\u001b[0;34m\u001b[0m\u001b[0;34m\u001b[0m\u001b[0m\n",
      "\u001b[0;31mAttributeError\u001b[0m: 'int' object has no attribute 'intercept'"
     ]
    },
    {
     "data": {
      "image/png": "[encoded data removed]",
      "text/plain": [
       "<Figure size 1500x600 with 2 Axes>"
      ]
     },
     "metadata": {
      "tags": []
     },
     "output_type": "display_data"
    }
   ],
   "source": [
    "slop_inter_graph()"
   ]
  },
  {
   "cell_type": "code",
   "execution_count": 230,
   "metadata": {
    "executionInfo": {
     "elapsed": 478856,
     "status": "ok",
     "timestamp": 1625024478494,
     "user": {
      "displayName": "Ashish Sharma",
      "photoUrl": "https://lh3.googleusercontent.com/a-/AOh14GhLgjf50_jNSgF-fCVnRio_rvn1pbYAvJI4ZiQgBw=s64",
      "userId": "15199158843343929672"
     },
     "user_tz": -330
    },
    "id": "ir89R5BmUJr7"
   },
   "outputs": [],
   "source": [
    "for i in range(5):\n",
    "  min_error_slope=s(min_error_intercept)\n",
    "  min_error_intercept=intercept_func(min_error_slope)"
   ]
  },
  {
   "cell_type": "code",
   "execution_count": 164,
   "metadata": {
    "colab": {
     "base_uri": "https://localhost:8080/"
    },
    "executionInfo": {
     "elapsed": 457,
     "status": "ok",
     "timestamp": 1625018155851,
     "user": {
      "displayName": "Ashish Sharma",
      "photoUrl": "https://lh3.googleusercontent.com/a-/AOh14GhLgjf50_jNSgF-fCVnRio_rvn1pbYAvJI4ZiQgBw=s64",
      "userId": "15199158843343929672"
     },
     "user_tz": -330
    },
    "id": "zZtubAYXd-dC",
    "outputId": "9ab67f7d-09ec-4ffb-bca4-54e005951d18"
   },
   "outputs": [
    {
     "data": {
      "text/plain": [
       "(2293    229.3\n",
       " Name: slope, dtype: float64, 6999    11999\n",
       " Name: intercept, dtype: int64)"
      ]
     },
     "execution_count": 164,
     "metadata": {
      "tags": []
     },
     "output_type": "execute_result"
    }
   ],
   "source": [
    "min_error_slope,min_error_intercept"
   ]
  },
  {
   "cell_type": "code",
   "execution_count": 169,
   "metadata": {
    "executionInfo": {
     "elapsed": 425,
     "status": "ok",
     "timestamp": 1625018205487,
     "user": {
      "displayName": "Ashish Sharma",
      "photoUrl": "https://lh3.googleusercontent.com/a-/AOh14GhLgjf50_jNSgF-fCVnRio_rvn1pbYAvJI4ZiQgBw=s64",
      "userId": "15199158843343929672"
     },
     "user_tz": -330
    },
    "id": "h3OUrUISMZx4"
   },
   "outputs": [],
   "source": [
    "Y=[]\n",
    "for i in Sample_Data['Flat_Area']:\n",
    "  y=i*229.3+11999\n",
    "  #y=i*min_error_slope+min_error_intercept\n",
    "  Y.append(y)"
   ]
  },
  {
   "cell_type": "code",
   "execution_count": 170,
   "metadata": {
    "colab": {
     "base_uri": "https://localhost:8080/",
     "height": 421
    },
    "executionInfo": {
     "elapsed": 823,
     "status": "ok",
     "timestamp": 1625018208433,
     "user": {
      "displayName": "Ashish Sharma",
      "photoUrl": "https://lh3.googleusercontent.com/a-/AOh14GhLgjf50_jNSgF-fCVnRio_rvn1pbYAvJI4ZiQgBw=s64",
      "userId": "15199158843343929672"
     },
     "user_tz": -330
    },
    "id": "Q7u1UqKUJ0f2",
    "outputId": "97808944-21be-4f9a-bceb-ebcb0c2a802a"
   },
   "outputs": [
    {
     "data": {
      "text/plain": [
       "<matplotlib.legend.Legend at 0x7fcf9c738790>"
      ]
     },
     "execution_count": 170,
     "metadata": {
      "tags": []
     },
     "output_type": "execute_result"
    },
    {
     "data": {
      "image/png": "[encoded data removed]",
      "text/plain": [
       "<Figure size 600x400 with 1 Axes>"
      ]
     },
     "metadata": {
      "needs_background": "light",
      "tags": []
     },
     "output_type": "display_data"
    }
   ],
   "source": [
    "#Plotting graph with obtained slope i.e min_error_slope\n",
    "plt.figure(dpi=100)\n",
    "plt.scatter(Sample_Data['Flat_Area'],Sample_Data['Sale_Price'],color='red',label='Sale Price point')\n",
    "plt.plot(Sample_Data['Flat_Area'],Y,color='green',label='Linear Regression')\n",
    "plt.xlabel('Flat Area')\n",
    "plt.ylabel('Sale Price')\n",
    "plt.title('Flat Area Vs Sale Price')\n",
    "plt.legend()"
   ]
  },
  {
   "cell_type": "code",
   "execution_count": 191,
   "metadata": {
    "colab": {
     "base_uri": "https://localhost:8080/"
    },
    "executionInfo": {
     "elapsed": 4,
     "status": "ok",
     "timestamp": 1625019306581,
     "user": {
      "displayName": "Ashish Sharma",
      "photoUrl": "https://lh3.googleusercontent.com/a-/AOh14GhLgjf50_jNSgF-fCVnRio_rvn1pbYAvJI4ZiQgBw=s64",
      "userId": "15199158843343929672"
     },
     "user_tz": -330
    },
    "id": "DCYZK9vRr4nL",
    "outputId": "b1cb3864-1767-4aa3-bfaf-fe721ed84792"
   },
   "outputs": [
    {
     "data": {
      "text/plain": [
       "0.754414230962852"
      ]
     },
     "execution_count": 191,
     "metadata": {
      "tags": []
     },
     "output_type": "execute_result"
    }
   ],
   "source": [
    "R2=1-(mse(Sample_Data['Mean_Sale'],Sample_Data['Sale_Price'])/mse(Y,Sample_Data['Sale_Price']))\n",
    "R2"
   ]
  },
  {
   "cell_type": "markdown",
   "metadata": {
    "id": "loQQNqTps1TP"
   },
   "source": [
    "### **GRADIENT DESCENT ALGORITHM**"
   ]
  },
  {
   "cell_type": "markdown",
   "metadata": {
    "id": "ZfBpTMYOuG_G"
   },
   "source": [
    "## **Step 1: Parameter's Initialization**"
   ]
  },
  {
   "cell_type": "code",
   "execution_count": 192,
   "metadata": {
    "executionInfo": {
     "elapsed": 692,
     "status": "ok",
     "timestamp": 1625019538893,
     "user": {
      "displayName": "Ashish Sharma",
      "photoUrl": "https://lh3.googleusercontent.com/a-/AOh14GhLgjf50_jNSgF-fCVnRio_rvn1pbYAvJI4ZiQgBw=s64",
      "userId": "15199158843343929672"
     },
     "user_tz": -330
    },
    "id": "uKvVjVZrs0CP"
   },
   "outputs": [],
   "source": [
    "def value_init(Y):\n",
    "  m=0.1\n",
    "  c=Y.mean()\n",
    "  return m,c"
   ]
  },
  {
   "cell_type": "markdown",
   "metadata": {
    "id": "ijEmngvYuS9L"
   },
   "source": [
    "## **Step 2:Generating Predictions**"
   ]
  },
  {
   "cell_type": "code",
   "execution_count": 193,
   "metadata": {
    "executionInfo": {
     "elapsed": 431,
     "status": "ok",
     "timestamp": 1625019666910,
     "user": {
      "displayName": "Ashish Sharma",
      "photoUrl": "https://lh3.googleusercontent.com/a-/AOh14GhLgjf50_jNSgF-fCVnRio_rvn1pbYAvJI4ZiQgBw=s64",
      "userId": "15199158843343929672"
     },
     "user_tz": -330
    },
    "id": "FTuofZi7tmHb"
   },
   "outputs": [],
   "source": [
    "def gen_predictions(m,c,X):\n",
    "  prediction=[]\n",
    "  for x in X:\n",
    "    y=m*x + c\n",
    "    prediction.append(y)\n",
    "  return prediction"
   ]
  },
  {
   "cell_type": "markdown",
   "metadata": {
    "id": "GcoCw-R7uadJ"
   },
   "source": [
    "### **Step 3: Calculating Produced Error**"
   ]
  },
  {
   "cell_type": "code",
   "execution_count": 195,
   "metadata": {
    "executionInfo": {
     "elapsed": 586,
     "status": "ok",
     "timestamp": 1625019934731,
     "user": {
      "displayName": "Ashish Sharma",
      "photoUrl": "https://lh3.googleusercontent.com/a-/AOh14GhLgjf50_jNSgF-fCVnRio_rvn1pbYAvJI4ZiQgBw=s64",
      "userId": "15199158843343929672"
     },
     "user_tz": -330
    },
    "id": "att2i2EUuFbi"
   },
   "outputs": [],
   "source": [
    "def cal_error(prediction,Y):\n",
    "  cost = mse(prediction,Y)\n",
    "  return cost"
   ]
  },
  {
   "cell_type": "markdown",
   "metadata": {
    "id": "Jf_Ag5o3vH5R"
   },
   "source": [
    "## **Step 4: Updating Parameters**"
   ]
  },
  {
   "cell_type": "code",
   "execution_count": 196,
   "metadata": {
    "executionInfo": {
     "elapsed": 537,
     "status": "ok",
     "timestamp": 1625020233285,
     "user": {
      "displayName": "Ashish Sharma",
      "photoUrl": "https://lh3.googleusercontent.com/a-/AOh14GhLgjf50_jNSgF-fCVnRio_rvn1pbYAvJI4ZiQgBw=s64",
      "userId": "15199158843343929672"
     },
     "user_tz": -330
    },
    "id": "VRdWgAIMvG2M"
   },
   "outputs": [],
   "source": [
    "# Function to calculate Gradient (Gm and Gc)\n",
    "def gradient(prediction,Y,X):\n",
    "  n=len(Y)\n",
    "  Gm=2/n*np.sum((prediction-Y)*X)\n",
    "  Gc=2/n*np.sum(prediction-Y)\n",
    "  return Gm,Gc\n",
    "\n",
    "# Function to update the values of parameter m and c\n",
    "def update_val(m_old,c_old,Gm_old,Gc_old,alpha):\n",
    "  m_new=m_old-alpha*Gm_old\n",
    "  c_new=c_old-alpha*Gc_old\n",
    "  return m_new,c_new"
   ]
  },
  {
   "cell_type": "markdown",
   "metadata": {
    "id": "se6lOci2wUrv"
   },
   "source": [
    "## **Resultant Function**"
   ]
  },
  {
   "cell_type": "code",
   "execution_count": 205,
   "metadata": {
    "executionInfo": {
     "elapsed": 634,
     "status": "ok",
     "timestamp": 1625021947156,
     "user": {
      "displayName": "Ashish Sharma",
      "photoUrl": "https://lh3.googleusercontent.com/a-/AOh14GhLgjf50_jNSgF-fCVnRio_rvn1pbYAvJI4ZiQgBw=s64",
      "userId": "15199158843343929672"
     },
     "user_tz": -330
    },
    "id": "A4Fya8OvwQOt"
   },
   "outputs": [],
   "source": [
    "def result(m,c,X,Y,cost,predictions,i):\n",
    "  if i<max_iter-1:\n",
    "    print('Gradient Decent has been converged at ',i)\n",
    "  else:\n",
    "    print('Result aftre ',max_iter,' iteration is: ')\n",
    "  plt.figure(dpi=100)\n",
    "  plt.scatter(X,Y,color='red',label='Data points')\n",
    "  plt.plot(X,predictions,color='green')\n",
    "  plt.legend()"
   ]
  },
  {
   "cell_type": "markdown",
   "metadata": {
    "id": "bWtASRBb2Ap3"
   },
   "source": [
    "## **Scaling the Data**"
   ]
  },
  {
   "cell_type": "code",
   "execution_count": 203,
   "metadata": {
    "executionInfo": {
     "elapsed": 475,
     "status": "ok",
     "timestamp": 1625021774044,
     "user": {
      "displayName": "Ashish Sharma",
      "photoUrl": "https://lh3.googleusercontent.com/a-/AOh14GhLgjf50_jNSgF-fCVnRio_rvn1pbYAvJI4ZiQgBw=s64",
      "userId": "15199158843343929672"
     },
     "user_tz": -330
    },
    "id": "OFbolPjt2GnD"
   },
   "outputs": [],
   "source": [
    "from sklearn.preprocessing import StandardScaler\n",
    "scaler=StandardScaler()\n",
    "sale_price=scaler.fit_transform(Sample_Data['Sale_Price'].values.reshape(-1,1))\n",
    "flat_area=scaler.fit_transform(Sample_Data['Flat_Area'].values.reshape(-1,1))"
   ]
  },
  {
   "cell_type": "code",
   "execution_count": 217,
   "metadata": {
    "colab": {
     "base_uri": "https://localhost:8080/"
    },
    "executionInfo": {
     "elapsed": 452,
     "status": "ok",
     "timestamp": 1625022829377,
     "user": {
      "displayName": "Ashish Sharma",
      "photoUrl": "https://lh3.googleusercontent.com/a-/AOh14GhLgjf50_jNSgF-fCVnRio_rvn1pbYAvJI4ZiQgBw=s64",
      "userId": "15199158843343929672"
     },
     "user_tz": -330
    },
    "id": "ObCfUB3y5rmr",
    "outputId": "12ec74a6-caf7-403b-f505-79c8991f81b6"
   },
   "outputs": [
    {
     "data": {
      "text/plain": [
       "(array([[-0.96330168],\n",
       "        [ 0.28411947],\n",
       "        [-1.12865108],\n",
       "        [ 0.54457438],\n",
       "        [ 0.17362345],\n",
       "        [ 2.61864388],\n",
       "        [-0.82281388],\n",
       "        [-0.68725894],\n",
       "        [-0.9333099 ],\n",
       "        [-0.56433212],\n",
       "        [ 0.77543213],\n",
       "        [ 0.00787942],\n",
       "        [-0.61563384],\n",
       "        [-0.26046806],\n",
       "        [ 0.25254918],\n",
       "        [ 0.72610355],\n",
       "        [-0.28019949],\n",
       "        [ 0.07496629],\n",
       "        [-1.0931345 ],\n",
       "        [-0.93133676],\n",
       "        [-0.31966236],\n",
       "        [ 2.61864388],\n",
       "        [-0.714291  ],\n",
       "        [-0.84175605],\n",
       "        [-0.5406544 ],\n",
       "        [-0.9194979 ],\n",
       "        [ 1.85868776],\n",
       "        [ 0.79319042],\n",
       "        [-0.11050917],\n",
       "        [ 0.99839732]]), array([[-0.83804685],\n",
       "        [ 0.68434712],\n",
       "        [-1.28709831],\n",
       "        [ 0.01624617],\n",
       "        [-0.29042312],\n",
       "        [ 3.80580238],\n",
       "        [-0.25208946],\n",
       "        [-0.96947654],\n",
       "        [-0.18089837],\n",
       "        [-0.06042115],\n",
       "        [ 1.7686421 ],\n",
       "        [-0.8599518 ],\n",
       "        [-0.56423498],\n",
       "        [-0.62994983],\n",
       "        [-0.14804095],\n",
       "        [ 1.10054115],\n",
       "        [-0.06042115],\n",
       "        [-0.37804291],\n",
       "        [-0.8161419 ],\n",
       "        [-0.76137953],\n",
       "        [-0.35613797],\n",
       "        [ 1.2100659 ],\n",
       "        [ 0.35577288],\n",
       "        [-0.95852407],\n",
       "        [ 0.55291743],\n",
       "        [-0.25756569],\n",
       "        [ 0.55291743],\n",
       "        [-0.59709241],\n",
       "        [-0.46566271],\n",
       "        [ 0.68434712]]), 0      221900.0\n",
       " 1      538000.0\n",
       " 2      180000.0\n",
       " 3      604000.0\n",
       " 4      510000.0\n",
       " 5     1129575.0\n",
       " 6      257500.0\n",
       " 7      291850.0\n",
       " 8      229500.0\n",
       " 9      323000.0\n",
       " 10     662500.0\n",
       " 11     468000.0\n",
       " 12     310000.0\n",
       " 13     400000.0\n",
       " 14     530000.0\n",
       " 15     650000.0\n",
       " 16     395000.0\n",
       " 17     485000.0\n",
       " 18     189000.0\n",
       " 19     230000.0\n",
       " 20     385000.0\n",
       " 21    1129575.0\n",
       " 22     285000.0\n",
       " 23     252700.0\n",
       " 24     329000.0\n",
       " 25     233000.0\n",
       " 26     937000.0\n",
       " 27     667000.0\n",
       " 28     438000.0\n",
       " 29     719000.0\n",
       " Name: Sale_Price, dtype: float64, 0     1180.0\n",
       " 1     2570.0\n",
       " 2      770.0\n",
       " 3     1960.0\n",
       " 4     1680.0\n",
       " 5     5420.0\n",
       " 6     1715.0\n",
       " 7     1060.0\n",
       " 8     1780.0\n",
       " 9     1890.0\n",
       " 10    3560.0\n",
       " 11    1160.0\n",
       " 12    1430.0\n",
       " 13    1370.0\n",
       " 14    1810.0\n",
       " 15    2950.0\n",
       " 16    1890.0\n",
       " 17    1600.0\n",
       " 18    1200.0\n",
       " 19    1250.0\n",
       " 20    1620.0\n",
       " 21    3050.0\n",
       " 22    2270.0\n",
       " 23    1070.0\n",
       " 24    2450.0\n",
       " 25    1710.0\n",
       " 26    2450.0\n",
       " 27    1400.0\n",
       " 28    1520.0\n",
       " 29    2570.0\n",
       " Name: Flat_Area, dtype: float64)"
      ]
     },
     "execution_count": 217,
     "metadata": {
      "tags": []
     },
     "output_type": "execute_result"
    }
   ],
   "source": [
    "sale_price,flat_area,Sample_Data['Sale_Price'],Sample_Data['Flat_Area']"
   ]
  },
  {
   "cell_type": "markdown",
   "metadata": {
    "id": "27fTHRYSxXpW"
   },
   "source": [
    "## Calling and performing Gradient Descent"
   ]
  },
  {
   "cell_type": "code",
   "execution_count": 213,
   "metadata": {
    "colab": {
     "base_uri": "https://localhost:8080/",
     "height": 682
    },
    "executionInfo": {
     "elapsed": 1370,
     "status": "ok",
     "timestamp": 1625022523337,
     "user": {
      "displayName": "Ashish Sharma",
      "photoUrl": "https://lh3.googleusercontent.com/a-/AOh14GhLgjf50_jNSgF-fCVnRio_rvn1pbYAvJI4ZiQgBw=s64",
      "userId": "15199158843343929672"
     },
     "user_tz": -330
    },
    "id": "os6YsFjsxU2P",
    "outputId": "8b3da4d4-24ce-4cb7-b83a-7da75a86f194"
   },
   "outputs": [
    {
     "name": "stdout",
     "output_type": "stream",
     "text": [
      "After Iteration  0  :m= 0.11316346413633305  ;c= 1.1849780416165836e-16  ;cost= 0.8583653586366701\n",
      "After Iteration  20  :m= 0.3275595607435688  ;c= 1.240489192847842e-16  ;cost= 0.6182472245590184\n",
      "After Iteration  40  :m= 0.4706921039517346  ;c= 1.3248661427193537e-16  ;cost= 0.5112264752046606\n",
      "After Iteration  60  :m= 0.5662485308150865  ;c= 1.415904430738617e-16  ;cost= 0.4635272839862899\n",
      "After Iteration  80  :m= 0.6300427631414932  ;c= 1.4951003398285442e-16  ;cost= 0.4422677351921283\n",
      "After Iteration  100  :m= 0.6726323011945988  ;c= 1.611303683072644e-16  ;cost= 0.4327923457067555\n",
      "After Iteration  120  :m= 0.7010654163122192  ;c= 1.666074685620818e-16  ;cost= 0.4285691607855322\n",
      "After Iteration  140  :m= 0.7200475906265729  ;c= 1.6660746856208182e-16  ;cost= 0.4266868855601835\n",
      "After Iteration  160  :m= 0.7327202415200801  ;c= 1.669405354694694e-16  ;cost= 0.4258479547318988\n",
      "After Iteration  180  :m= 0.7411806042798547  ;c= 1.6694053546946945e-16  ;cost= 0.4254740429228453\n",
      "After Iteration  200  :m= 0.7468288099022201  ;c= 1.6760666928424454e-16  ;cost= 0.4253073902785081\n",
      "After Iteration  220  :m= 0.7505995970018231  ;c= 1.6605235704976932e-16  ;cost= 0.42523311312760764\n",
      "After Iteration  240  :m= 0.7531170045293095  ;c= 1.6642243139131105e-16  ;cost= 0.42520000777144695\n",
      "After Iteration  260  :m= 0.7547976458628156  ;c= 1.6716258007439448e-16  ;cost= 0.4251852527008332\n",
      "After Iteration  280  :m= 0.7559196554147255  ;c= 1.6686652060116111e-16  ;cost= 0.42517867635990025\n",
      "After Iteration  300  :m= 0.7566380140812581  ;c= 1.6682951316700692e-16  ;cost= 0.4251757452820899\n",
      "0.9758558477951397\n",
      "Gradient Decent has been converged at  300\n"
     ]
    },
    {
     "data": {
      "image/png": "[encoded data removed]",
      "text/plain": [
       "<Figure size 600x400 with 1 Axes>"
      ]
     },
     "metadata": {
      "needs_background": "light",
      "tags": []
     },
     "output_type": "display_data"
    }
   ],
   "source": [
    "max_iter=1000\n",
    "alpha=0.01\n",
    "cost_old=0\n",
    "m,c=value_init(sale_price)\n",
    "for i in range(0,max_iter):\n",
    "  predictions=gen_predictions(m,c,flat_area)\n",
    "  cost_new=cal_error(predictions,sale_price)\n",
    "  if abs(cost_new-cost_old)<10**(-7):\n",
    "    print('After Iteration ',i,' :m=',m,' ;c=',c,' ;cost=',cost_new)\n",
    "    R2=1-(mse(Sample_Data['Mean_Sale'],Sample_Data['Sale_Price'])/mse(predictions,Sample_Data['Sale_Price']))\n",
    "    print(R2)\n",
    "    break\n",
    "  Gm,Gc=gradient(predictions,sale_price,flat_area)\n",
    "  m,c=update_val(m,c,Gm,Gc,alpha)\n",
    "  if i%20==0:\n",
    "    print('After Iteration ',i,' :m=',m,' ;c=',c,' ;cost=',cost_new)\n",
    "  cost_old=cost_new\n",
    "result(m,c,flat_area,sale_price,cost_new,predictions,i)"
   ]
  }
 ],
 "metadata": {
  "colab": {
   "authorship_tag": "ABX9TyPemRCQPX6cCnEJua0kNarA",
   "mount_file_id": "1fhZj3LJZTMPfUZOWLtAPsefS18zvLMjq",
   "name": "Linear Regression.(Concept Practice)ipynb",
   "provenance": []
  },
  "kernelspec": {
   "display_name": "Python 3",
   "language": "python",
   "name": "python3"
  },
  "language_info": {
   "codemirror_mode": {
    "name": "ipython",
    "version": 3
   },
   "file_extension": ".py",
   "mimetype": "text/x-python",
   "name": "python",
   "nbconvert_exporter": "python",
   "pygments_lexer": "ipython3",
   "version": "3.8.8"
  }
 },
 "nbformat": 4,
 "nbformat_minor": 1
}
